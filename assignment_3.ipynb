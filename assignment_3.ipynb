{
 "cells": [
  {
   "cell_type": "code",
   "execution_count": null,
   "metadata": {},
   "outputs": [],
   "source": [
    "#Q1\n",
    "def prob(p1,p2,p3):\n",
    "    p4 = (p2*p3)/p1\n",
    "    print('Conditional probabilty P(B/A):',p4)\n",
    "x=float(input('enter probability P(A):'))\n",
    "y=float(input('enter probability P(B):'))\n",
    "z=float(input('enter probability P(A/B):'))\n",
    "prob(x,y,z)\n"
   ]
  },
  {
   "cell_type": "code",
   "execution_count": null,
   "metadata": {},
   "outputs": [],
   "source": [
    "#Q2\n",
    "wb1=int(input('enter no of white balls in BAG 1'));\n",
    "bb1=int(input('enter no of black balls in BAG 1'));\n",
    "wb2=int(input('enter no of white balls in BAG 2'));\n",
    "bb2=int(input('enter no of black balls in BAG 2'));\n",
    "pbag=0.5;\n",
    "pwb1=wb1/(bb1+wb1);\n",
    "pbb1=bb1/(bb1+wb1);\n",
    "pwb2=wb2/(bb2+wb2);\n",
    "pbb2=bb2/(bb2+wb2);\n",
    "p=(pbag*pbb1)/((pbag*pbb1)+(pbag*pbb2));\n",
    "print('probability that the black ball chosen is from BAG 1 is:',p);"
   ]
  },
  {
   "cell_type": "code",
   "execution_count": null,
   "metadata": {},
   "outputs": [],
   "source": [
    "#Q3\n",
    "truth=float(input('enter probability that person speaks truth:'))\n",
    "lie=float(1-(truth))\n",
    "p_4=float(1/6)\n",
    "p_not4=float(1-p_4)\n",
    "p=(p_4*truth)/((p_4*truth)+(p_not4*lie))\n",
    "print('probability that number obtained is four',p);"
   ]
  },
  {
   "cell_type": "code",
   "execution_count": null,
   "metadata": {},
   "outputs": [],
   "source": []
  }
 ],
 "metadata": {
  "kernelspec": {
   "display_name": "Python 3",
   "language": "python",
   "name": "python3"
  },
  "language_info": {
   "codemirror_mode": {
    "name": "ipython",
    "version": 3
   },
   "file_extension": ".py",
   "mimetype": "text/x-python",
   "name": "python",
   "nbconvert_exporter": "python",
   "pygments_lexer": "ipython3",
   "version": "3.6.4"
  }
 },
 "nbformat": 4,
 "nbformat_minor": 2
}
