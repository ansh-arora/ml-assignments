{
 "cells": [
  {
   "cell_type": "code",
   "execution_count": null,
   "metadata": {},
   "outputs": [],
   "source": [
    "import pandas as pd\n",
    "#Q1\n",
    "data = {'Name':['Anmol'],'Age':[20],'Email ID':['anmol@gmail.com'],'Phone No.':[9988776655]}\n",
    "i = pd.DataFrame(data)\n",
    "i.loc[1]=['Dhruv',20,'dhruv@yahoo.com',9898989898]\n",
    "print(i)"
   ]
  },
  {
   "cell_type": "code",
   "execution_count": null,
   "metadata": {},
   "outputs": [],
   "source": [
    "# Q2\n",
    "# a.)\n",
    "df=pd.read_csv('data.csv')\n",
    "print(df.head(5))\n",
    "# b.)\n",
    "df=pd.read_csv('data.csv')\n",
    "print(df.head(10))\n",
    "# c.)\n",
    "df=pd.read_csv('data.csv')\n",
    "d=pd.Series((df.loc[:,'MinTemp']))\n",
    "s=d.min()\n",
    "g=((df.loc[df['MinTemp']==s,'Date']))\n",
    "print('Min Temperature is:',s,'on:',g.values)\n",
    "# d.)\n",
    "df=pd.read_csv('data.csv')\n",
    "print(df.tail(5))\n",
    "# e.)\n",
    "df=pd.read_csv('data.csv')\n",
    "d=pd.Series((df.loc[:,'MinTemp']))\n",
    "s=d.min()\n",
    "s2=d.max()\n",
    "print('Minimum temperature lies between',s,'to',s2)"
   ]
  }
 ],
 "metadata": {
  "kernelspec": {
   "display_name": "Python 3",
   "language": "python",
   "name": "python3"
  },
  "language_info": {
   "codemirror_mode": {
    "name": "ipython",
    "version": 3
   },
   "file_extension": ".py",
   "mimetype": "text/x-python",
   "name": "python",
   "nbconvert_exporter": "python",
   "pygments_lexer": "ipython3",
   "version": "3.6.4"
  }
 },
 "nbformat": 4,
 "nbformat_minor": 2
}
