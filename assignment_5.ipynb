{
 "cells": [
  {
   "cell_type": "code",
   "execution_count": 6,
   "metadata": {},
   "outputs": [],
   "source": [
    "import pandas as pd\n",
    "import numpy as np\n",
    "import os\n",
    "path=os.getcwd()+'/weather.csv'\n",
    "df=pd.read_csv(path)\n",
    "\n"
   ]
  },
  {
   "cell_type": "code",
   "execution_count": 7,
   "metadata": {},
   "outputs": [
    {
     "data": {
      "text/plain": [
       "Date              0\n",
       "Location          0\n",
       "MinTemp           0\n",
       "MaxTemp           0\n",
       "Rainfall          0\n",
       "Evaporation       0\n",
       "Sunshine          3\n",
       "WindGustDir       3\n",
       "WindGustSpeed     2\n",
       "WindDir9am       31\n",
       "WindDir3pm        1\n",
       "WindSpeed9am      7\n",
       "WindSpeed3pm      0\n",
       "Humidity9am       0\n",
       "Humidity3pm       0\n",
       "Pressure9am       0\n",
       "Pressure3pm       0\n",
       "Cloud9am          0\n",
       "Cloud3pm          0\n",
       "Temp9am           0\n",
       "Temp3pm           0\n",
       "RainToday         0\n",
       "RISK_MM           0\n",
       "RainTomorrow      0\n",
       "dtype: int64"
      ]
     },
     "execution_count": 7,
     "metadata": {},
     "output_type": "execute_result"
    }
   ],
   "source": [
    "#a.\n",
    "df.isnull().sum()"
   ]
  },
  {
   "cell_type": "code",
   "execution_count": 8,
   "metadata": {},
   "outputs": [],
   "source": [
    "#b.\n",
    "df.replace('NA',np.nan,inplace=True)"
   ]
  },
  {
   "cell_type": "code",
   "execution_count": 9,
   "metadata": {},
   "outputs": [
    {
     "data": {
      "text/plain": [
       "Date             0\n",
       "Location         0\n",
       "MinTemp          0\n",
       "MaxTemp          0\n",
       "Rainfall         0\n",
       "Evaporation      0\n",
       "Sunshine         0\n",
       "WindGustDir      0\n",
       "WindGustSpeed    0\n",
       "WindDir9am       0\n",
       "WindDir3pm       0\n",
       "WindSpeed9am     0\n",
       "WindSpeed3pm     0\n",
       "Humidity9am      0\n",
       "Humidity3pm      0\n",
       "Pressure9am      0\n",
       "Pressure3pm      0\n",
       "Cloud9am         0\n",
       "Cloud3pm         0\n",
       "Temp9am          0\n",
       "Temp3pm          0\n",
       "RainToday        0\n",
       "RISK_MM          0\n",
       "RainTomorrow     0\n",
       "dtype: int64"
      ]
     },
     "execution_count": 9,
     "metadata": {},
     "output_type": "execute_result"
    }
   ],
   "source": [
    "#c.\n",
    "df=df.fillna(df.mean())\n",
    "df['WindGustDir']=df.fillna(df['WindGustDir'].mode())\n",
    "df['WindDir9am']=df.fillna(df['WindDir9am'].mode())\n",
    "df['WindDir3pm']=df.fillna(df['WindDir3pm'].mode())\n",
    "df.isnull().sum()"
   ]
  },
  {
   "cell_type": "code",
   "execution_count": 14,
   "metadata": {},
   "outputs": [
    {
     "name": "stdout",
     "output_type": "stream",
     "text": [
      "<class 'pandas.core.frame.DataFrame'>\n",
      "RangeIndex: 366 entries, 0 to 365\n",
      "Data columns (total 24 columns):\n",
      "Date             366 non-null object\n",
      "Location         366 non-null object\n",
      "MinTemp          366 non-null float64\n",
      "MaxTemp          366 non-null float64\n",
      "Rainfall         366 non-null float64\n",
      "Evaporation      366 non-null float64\n",
      "Sunshine         366 non-null float64\n",
      "WindGustDir      366 non-null object\n",
      "WindGustSpeed    366 non-null float64\n",
      "WindDir9am       366 non-null object\n",
      "WindDir3pm       366 non-null object\n",
      "WindSpeed9am     366 non-null float64\n",
      "WindSpeed3pm     366 non-null int64\n",
      "Humidity9am      366 non-null int64\n",
      "Humidity3pm      366 non-null int64\n",
      "Pressure9am      366 non-null float64\n",
      "Pressure3pm      366 non-null float64\n",
      "Cloud9am         366 non-null int64\n",
      "Cloud3pm         366 non-null int64\n",
      "Temp9am          366 non-null float64\n",
      "Temp3pm          366 non-null float64\n",
      "RainToday        366 non-null object\n",
      "RISK_MM          366 non-null float64\n",
      "RainTomorrow     366 non-null object\n",
      "dtypes: float64(12), int64(5), object(7)\n",
      "memory usage: 68.7+ KB\n"
     ]
    },
    {
     "data": {
      "text/plain": [
       "0       8.0\n",
       "1      14.0\n",
       "2      13.7\n",
       "3      13.3\n",
       "4       7.6\n",
       "5       6.2\n",
       "6       6.1\n",
       "7       8.3\n",
       "8       8.8\n",
       "9       8.4\n",
       "10      9.1\n",
       "11      8.5\n",
       "12     10.1\n",
       "13     12.1\n",
       "14     10.1\n",
       "15     12.4\n",
       "16     13.8\n",
       "17     11.7\n",
       "18     12.4\n",
       "19     15.6\n",
       "20     15.3\n",
       "21     16.4\n",
       "22     12.8\n",
       "23     12.0\n",
       "24     15.4\n",
       "25     15.6\n",
       "26     13.3\n",
       "27     12.9\n",
       "28     15.1\n",
       "29     13.6\n",
       "       ... \n",
       "336     5.6\n",
       "337    16.8\n",
       "338    14.4\n",
       "339    10.3\n",
       "340    11.2\n",
       "341     0.3\n",
       "342     0.5\n",
       "343     0.5\n",
       "344     4.6\n",
       "345     8.2\n",
       "346     4.5\n",
       "347     6.7\n",
       "348    11.9\n",
       "349     9.2\n",
       "350     4.4\n",
       "351     5.0\n",
       "352     6.7\n",
       "353     8.3\n",
       "354    11.3\n",
       "355     9.0\n",
       "356     3.4\n",
       "357     3.2\n",
       "358     0.9\n",
       "359     3.3\n",
       "360     7.9\n",
       "361     9.0\n",
       "362     7.1\n",
       "363    12.5\n",
       "364    12.5\n",
       "365    12.3\n",
       "Name: MinTemp, Length: 366, dtype: float64"
      ]
     },
     "execution_count": 14,
     "metadata": {},
     "output_type": "execute_result"
    }
   ],
   "source": [
    "#d.\n",
    "df.info()\n",
    "d=pd.Series(df.loc[:,'MinTemp'])\n",
    "d"
   ]
  },
  {
   "cell_type": "code",
   "execution_count": null,
   "metadata": {},
   "outputs": [],
   "source": []
  }
 ],
 "metadata": {
  "kernelspec": {
   "display_name": "Python 3",
   "language": "python",
   "name": "python3"
  },
  "language_info": {
   "codemirror_mode": {
    "name": "ipython",
    "version": 3
   },
   "file_extension": ".py",
   "mimetype": "text/x-python",
   "name": "python",
   "nbconvert_exporter": "python",
   "pygments_lexer": "ipython3",
   "version": "3.6.4"
  }
 },
 "nbformat": 4,
 "nbformat_minor": 2
}
